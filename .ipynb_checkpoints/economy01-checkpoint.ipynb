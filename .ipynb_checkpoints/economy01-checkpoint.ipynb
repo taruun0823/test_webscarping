{
 "cells": [
  {
   "cell_type": "code",
   "execution_count": 1,
   "id": "7e9f3e45",
   "metadata": {},
   "outputs": [],
   "source": [
    "import requests"
   ]
  },
  {
   "cell_type": "code",
   "execution_count": 4,
   "id": "897963f6",
   "metadata": {},
   "outputs": [],
   "source": [
    "path ='http://media.daum.net/economic/'\n",
    "path2 = 'https://music.bugs.co.kr/chart'\n",
    "req =requests.get(path)"
   ]
  },
  {
   "cell_type": "code",
   "execution_count": 5,
   "id": "0f8eb55e",
   "metadata": {},
   "outputs": [
    {
     "data": {
      "text/plain": [
       "200"
      ]
     },
     "execution_count": 5,
     "metadata": {},
     "output_type": "execute_result"
    }
   ],
   "source": [
    "req.status_code"
   ]
  },
  {
   "cell_type": "code",
   "execution_count": null,
   "id": "f8f93d69",
   "metadata": {},
   "outputs": [],
   "source": [
    "tag =result[0]"
   ]
  },
  {
   "cell_type": "code",
   "execution_count": null,
   "id": "cce9fcb5",
   "metadata": {},
   "outputs": [],
   "source": [
    "tag.text"
   ]
  },
  {
   "cell_type": "code",
   "execution_count": null,
   "id": "db3c7824",
   "metadata": {},
   "outputs": [],
   "source": [
    "tag['href']"
   ]
  },
  {
   "cell_type": "code",
   "execution_count": null,
   "id": "67e513c9",
   "metadata": {},
   "outputs": [],
   "source": [
    "contents=[]\n",
    "for tag in result:\n",
    "    title =tag.tex.strip()\n",
    "    link =tag['href'].strip\n",
    "    content =[title, link]\n",
    "    contents.append(content)\n",
    "len(contents)"
   ]
  },
  {
   "cell_type": "code",
   "execution_count": null,
   "id": "3b27d73f",
   "metadata": {},
   "outputs": [],
   "source": [
    "import pandas"
   ]
  },
  {
   "cell_type": "code",
   "execution_count": null,
   "id": "9f0af6de",
   "metadata": {},
   "outputs": [],
   "source": [
    "pd =pandas.DataFrame(contents, columns =['Title', 'Link'])\n",
    "pd"
   ]
  },
  {
   "cell_type": "code",
   "execution_count": null,
   "id": "fea81c83",
   "metadata": {},
   "outputs": [],
   "source": [
    "pd.to_excel('./saves/economic01.xls', index =False)"
   ]
  }
 ],
 "metadata": {
  "kernelspec": {
   "display_name": "Python 3",
   "language": "python",
   "name": "python3"
  },
  "language_info": {
   "codemirror_mode": {
    "name": "ipython",
    "version": 3
   },
   "file_extension": ".py",
   "mimetype": "text/x-python",
   "name": "python",
   "nbconvert_exporter": "python",
   "pygments_lexer": "ipython3",
   "version": "3.6.4"
  }
 },
 "nbformat": 4,
 "nbformat_minor": 5
}
