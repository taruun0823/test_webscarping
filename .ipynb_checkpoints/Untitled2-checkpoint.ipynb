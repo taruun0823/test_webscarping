{
 "cells": [
  {
   "cell_type": "code",
   "execution_count": 1,
   "id": "7491ac0b",
   "metadata": {},
   "outputs": [],
   "source": [
    "from selenium import webdriver"
   ]
  },
  {
   "cell_type": "code",
   "execution_count": 2,
   "id": "5924482e",
   "metadata": {},
   "outputs": [],
   "source": [
    "browser =webdriver.Chrome('./chromedriver.exe')\n",
    "browser.get('https://github.com/login')"
   ]
  },
  {
   "cell_type": "code",
   "execution_count": null,
   "id": "8413e3ef",
   "metadata": {},
   "outputs": [],
   "source": [
    "import time\n",
    "time.sleep(3)\n",
    "\n",
    "browser.find_elements_by_css_selector('input#login_field').send_keys('otter.oh@gmail.com')\n",
    "browser.find_elements_by_css_selector('input#login_field').send_keys(ps)\n",
    "\n",
    "browser.\n"
   ]
  }
 ],
 "metadata": {
  "kernelspec": {
   "display_name": "Python 3",
   "language": "python",
   "name": "python3"
  },
  "language_info": {
   "codemirror_mode": {
    "name": "ipython",
    "version": 3
   },
   "file_extension": ".py",
   "mimetype": "text/x-python",
   "name": "python",
   "nbconvert_exporter": "python",
   "pygments_lexer": "ipython3",
   "version": "3.6.4"
  }
 },
 "nbformat": 4,
 "nbformat_minor": 5
}
